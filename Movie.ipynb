{
 "cells": [
  {
   "cell_type": "code",
   "execution_count": 47,
   "id": "8858d5b2",
   "metadata": {},
   "outputs": [],
   "source": [
    "import pandas as pd\n",
    "import numpy as np\n",
    "import seaborn as sns\n",
    "import matplotlib.pyplot as plt\n",
    "\n",
    "import sys\n",
    "import operator\n",
    "import re\n",
    "from sklearn.decomposition import PCA\n",
    "from sklearn.preprocessing import StandardScaler\n",
    "import pickle\n",
    "\n",
    "%matplotlib inline"
   ]
  },
  {
   "cell_type": "code",
   "execution_count": null,
   "id": "f7a5f3e1",
   "metadata": {},
   "outputs": [],
   "source": [
    "movies = pd.read_csv(\"movies.csv\")\n",
    "tags = pd.read_csv(\"tags.csv\")\n",
    "links = pd.read_csv(\"links.csv\")\n",
    "ratings = pd.read_csv(\"ratings.csv\")"
   ]
  },
  {
   "cell_type": "code",
   "execution_count": null,
   "id": "1f527218",
   "metadata": {},
   "outputs": [],
   "source": [
    "genome_tags = pd.read_csv(\"genome-tags.csv\")\n",
    "genome_scores = pd.read_csv(\"genome-scores.csv\")"
   ]
  },
  {
   "cell_type": "code",
   "execution_count": null,
   "id": "53ada8f2",
   "metadata": {},
   "outputs": [],
   "source": [
    "movies.head()"
   ]
  },
  {
   "cell_type": "code",
   "execution_count": null,
   "id": "038c7706",
   "metadata": {},
   "outputs": [],
   "source": [
    "len(movies)"
   ]
  },
  {
   "cell_type": "code",
   "execution_count": null,
   "id": "baeeee21",
   "metadata": {},
   "outputs": [],
   "source": [
    "genome_tags.head(20)"
   ]
  },
  {
   "cell_type": "code",
   "execution_count": null,
   "id": "d8e4e43b",
   "metadata": {},
   "outputs": [],
   "source": [
    "genome_scores.head(20)"
   ]
  },
  {
   "cell_type": "code",
   "execution_count": null,
   "id": "b4438e8c",
   "metadata": {},
   "outputs": [],
   "source": [
    "inter_merge = pd.merge(genome_scores, genome_tags, on=\"tagId\")"
   ]
  },
  {
   "cell_type": "code",
   "execution_count": null,
   "id": "cdf832b3",
   "metadata": {},
   "outputs": [],
   "source": [
    "inter_merge.head()"
   ]
  },
  {
   "cell_type": "code",
   "execution_count": null,
   "id": "d42d532e",
   "metadata": {},
   "outputs": [],
   "source": [
    "len(inter_merge)"
   ]
  },
  {
   "cell_type": "code",
   "execution_count": null,
   "id": "42c2cf77",
   "metadata": {},
   "outputs": [],
   "source": [
    "inter_merge.drop(\"tagId\", axis=1, inplace=True)"
   ]
  },
  {
   "cell_type": "code",
   "execution_count": null,
   "id": "b5152ede",
   "metadata": {},
   "outputs": [],
   "source": [
    "wide = pd.pivot(inter_merge, index=\"movieId\", columns=\"tag\", values=\"relevance\")"
   ]
  },
  {
   "cell_type": "code",
   "execution_count": null,
   "id": "d4357df4",
   "metadata": {
    "scrolled": false
   },
   "outputs": [],
   "source": [
    "wide.reset_index(inplace=True)\n",
    "wide.head()"
   ]
  },
  {
   "cell_type": "code",
   "execution_count": null,
   "id": "82e77bb9",
   "metadata": {},
   "outputs": [],
   "source": [
    "wide.describe()"
   ]
  },
  {
   "cell_type": "code",
   "execution_count": null,
   "id": "dfac78cf",
   "metadata": {},
   "outputs": [],
   "source": [
    "wide = wide.rename_axis(None, axis=1)\n",
    "wide.head()"
   ]
  },
  {
   "cell_type": "code",
   "execution_count": null,
   "id": "44e88b4f",
   "metadata": {},
   "outputs": [],
   "source": [
    "wide=wide.astype(np.float32)"
   ]
  },
  {
   "cell_type": "code",
   "execution_count": null,
   "id": "5e489a79",
   "metadata": {
    "scrolled": true
   },
   "outputs": [],
   "source": [
    "wide.head()"
   ]
  },
  {
   "cell_type": "code",
   "execution_count": null,
   "id": "d616cd54",
   "metadata": {},
   "outputs": [],
   "source": [
    "len(wide)"
   ]
  },
  {
   "cell_type": "code",
   "execution_count": null,
   "id": "537aceb8",
   "metadata": {},
   "outputs": [],
   "source": [
    "merge = pd.merge(movies, wide, on=\"movieId\")"
   ]
  },
  {
   "cell_type": "code",
   "execution_count": null,
   "id": "7ecae937",
   "metadata": {
    "scrolled": true
   },
   "outputs": [],
   "source": [
    "merge.head()"
   ]
  },
  {
   "cell_type": "code",
   "execution_count": null,
   "id": "15b3d8a1",
   "metadata": {},
   "outputs": [],
   "source": [
    "len(merge)"
   ]
  },
  {
   "cell_type": "code",
   "execution_count": null,
   "id": "3c0ce620",
   "metadata": {},
   "outputs": [],
   "source": [
    "merge.to_csv(\"merge.csv\", index=False)"
   ]
  },
  {
   "cell_type": "code",
   "execution_count": 2,
   "id": "99c33a70",
   "metadata": {},
   "outputs": [],
   "source": [
    "data = pd.read_csv(\"merge.csv\")"
   ]
  },
  {
   "cell_type": "code",
   "execution_count": 3,
   "id": "58b9af41",
   "metadata": {},
   "outputs": [],
   "source": [
    "genres_list = list(data[\"genres\"])"
   ]
  },
  {
   "cell_type": "code",
   "execution_count": 4,
   "id": "9ee7d89d",
   "metadata": {},
   "outputs": [],
   "source": [
    "new_genres_list = []\n",
    "for g in genres_list:\n",
    "    g = g.split(\"|\")\n",
    "    new_genres_list.append(g)"
   ]
  },
  {
   "cell_type": "code",
   "execution_count": 5,
   "id": "f81e8fcb",
   "metadata": {},
   "outputs": [],
   "source": [
    "final_genres = []\n",
    "\n",
    "for l in new_genres_list:\n",
    "    for g in l:\n",
    "        final_genres.append(g)"
   ]
  },
  {
   "cell_type": "code",
   "execution_count": 6,
   "id": "5680fbea",
   "metadata": {},
   "outputs": [
    {
     "data": {
      "text/plain": [
       "['Film-Noir',\n",
       " 'Romance',\n",
       " 'Horror',\n",
       " 'Musical',\n",
       " 'Animation',\n",
       " 'IMAX',\n",
       " 'Adventure',\n",
       " 'Comedy',\n",
       " 'Thriller',\n",
       " 'Children',\n",
       " 'Fantasy',\n",
       " 'Western',\n",
       " 'Documentary',\n",
       " 'Mystery',\n",
       " 'Sci-Fi',\n",
       " 'Crime',\n",
       " '(no genres listed)',\n",
       " 'Action',\n",
       " 'Drama',\n",
       " 'War']"
      ]
     },
     "execution_count": 6,
     "metadata": {},
     "output_type": "execute_result"
    }
   ],
   "source": [
    "final_genres = list(set(final_genres))\n",
    "\n",
    "final_genres"
   ]
  },
  {
   "cell_type": "code",
   "execution_count": 7,
   "id": "9005829d",
   "metadata": {},
   "outputs": [],
   "source": [
    "for i in final_genres:\n",
    "    data[i] = 0"
   ]
  },
  {
   "cell_type": "code",
   "execution_count": 8,
   "id": "279cf167",
   "metadata": {},
   "outputs": [],
   "source": [
    "for i in final_genres:\n",
    "    data[i] = data.apply(lambda x: 1 if i in x[\"genres\"] else 0, axis=1)\n"
   ]
  },
  {
   "cell_type": "code",
   "execution_count": 9,
   "id": "820c2fd6",
   "metadata": {},
   "outputs": [],
   "source": [
    "data.drop(\"genres\", axis=1, inplace=True)"
   ]
  },
  {
   "cell_type": "code",
   "execution_count": 10,
   "id": "a6d41a41",
   "metadata": {},
   "outputs": [],
   "source": [
    "data.drop(\"movieId\", axis=1, inplace=True)"
   ]
  },
  {
   "cell_type": "code",
   "execution_count": 11,
   "id": "8c247a69",
   "metadata": {},
   "outputs": [
    {
     "data": {
      "text/html": [
       "<div>\n",
       "<style scoped>\n",
       "    .dataframe tbody tr th:only-of-type {\n",
       "        vertical-align: middle;\n",
       "    }\n",
       "\n",
       "    .dataframe tbody tr th {\n",
       "        vertical-align: top;\n",
       "    }\n",
       "\n",
       "    .dataframe thead th {\n",
       "        text-align: right;\n",
       "    }\n",
       "</style>\n",
       "<table border=\"1\" class=\"dataframe\">\n",
       "  <thead>\n",
       "    <tr style=\"text-align: right;\">\n",
       "      <th></th>\n",
       "      <th>title</th>\n",
       "      <th>007</th>\n",
       "      <th>007 (series)</th>\n",
       "      <th>18th century</th>\n",
       "      <th>1920s</th>\n",
       "      <th>1930s</th>\n",
       "      <th>1950s</th>\n",
       "      <th>1960s</th>\n",
       "      <th>1970s</th>\n",
       "      <th>1980s</th>\n",
       "      <th>...</th>\n",
       "      <th>Western</th>\n",
       "      <th>Documentary</th>\n",
       "      <th>Mystery</th>\n",
       "      <th>Sci-Fi</th>\n",
       "      <th>Crime</th>\n",
       "      <th>(no genres listed)</th>\n",
       "      <th>Action</th>\n",
       "      <th>Drama</th>\n",
       "      <th>War</th>\n",
       "      <th>year</th>\n",
       "    </tr>\n",
       "  </thead>\n",
       "  <tbody>\n",
       "    <tr>\n",
       "      <th>0</th>\n",
       "      <td>Toy Story (1995)</td>\n",
       "      <td>0.02875</td>\n",
       "      <td>0.02375</td>\n",
       "      <td>0.06250</td>\n",
       "      <td>0.07575</td>\n",
       "      <td>0.14075</td>\n",
       "      <td>0.14675</td>\n",
       "      <td>0.06350</td>\n",
       "      <td>0.20375</td>\n",
       "      <td>0.2020</td>\n",
       "      <td>...</td>\n",
       "      <td>0</td>\n",
       "      <td>0</td>\n",
       "      <td>0</td>\n",
       "      <td>0</td>\n",
       "      <td>0</td>\n",
       "      <td>0</td>\n",
       "      <td>0</td>\n",
       "      <td>0</td>\n",
       "      <td>0</td>\n",
       "      <td>1995</td>\n",
       "    </tr>\n",
       "    <tr>\n",
       "      <th>1</th>\n",
       "      <td>Jumanji (1995)</td>\n",
       "      <td>0.04125</td>\n",
       "      <td>0.04050</td>\n",
       "      <td>0.06275</td>\n",
       "      <td>0.08275</td>\n",
       "      <td>0.09100</td>\n",
       "      <td>0.06125</td>\n",
       "      <td>0.06925</td>\n",
       "      <td>0.09600</td>\n",
       "      <td>0.0765</td>\n",
       "      <td>...</td>\n",
       "      <td>0</td>\n",
       "      <td>0</td>\n",
       "      <td>0</td>\n",
       "      <td>0</td>\n",
       "      <td>0</td>\n",
       "      <td>0</td>\n",
       "      <td>0</td>\n",
       "      <td>0</td>\n",
       "      <td>0</td>\n",
       "      <td>1995</td>\n",
       "    </tr>\n",
       "    <tr>\n",
       "      <th>2</th>\n",
       "      <td>Grumpier Old Men (1995)</td>\n",
       "      <td>0.04675</td>\n",
       "      <td>0.05550</td>\n",
       "      <td>0.02925</td>\n",
       "      <td>0.08700</td>\n",
       "      <td>0.04750</td>\n",
       "      <td>0.04775</td>\n",
       "      <td>0.04600</td>\n",
       "      <td>0.14275</td>\n",
       "      <td>0.0285</td>\n",
       "      <td>...</td>\n",
       "      <td>0</td>\n",
       "      <td>0</td>\n",
       "      <td>0</td>\n",
       "      <td>0</td>\n",
       "      <td>0</td>\n",
       "      <td>0</td>\n",
       "      <td>0</td>\n",
       "      <td>0</td>\n",
       "      <td>0</td>\n",
       "      <td>1995</td>\n",
       "    </tr>\n",
       "    <tr>\n",
       "      <th>3</th>\n",
       "      <td>Waiting to Exhale (1995)</td>\n",
       "      <td>0.03425</td>\n",
       "      <td>0.03800</td>\n",
       "      <td>0.04050</td>\n",
       "      <td>0.03100</td>\n",
       "      <td>0.06500</td>\n",
       "      <td>0.03575</td>\n",
       "      <td>0.02900</td>\n",
       "      <td>0.08650</td>\n",
       "      <td>0.0320</td>\n",
       "      <td>...</td>\n",
       "      <td>0</td>\n",
       "      <td>0</td>\n",
       "      <td>0</td>\n",
       "      <td>0</td>\n",
       "      <td>0</td>\n",
       "      <td>0</td>\n",
       "      <td>0</td>\n",
       "      <td>1</td>\n",
       "      <td>0</td>\n",
       "      <td>1995</td>\n",
       "    </tr>\n",
       "    <tr>\n",
       "      <th>4</th>\n",
       "      <td>Father of the Bride Part II (1995)</td>\n",
       "      <td>0.04300</td>\n",
       "      <td>0.05325</td>\n",
       "      <td>0.03800</td>\n",
       "      <td>0.04100</td>\n",
       "      <td>0.05400</td>\n",
       "      <td>0.06725</td>\n",
       "      <td>0.02775</td>\n",
       "      <td>0.07650</td>\n",
       "      <td>0.0215</td>\n",
       "      <td>...</td>\n",
       "      <td>0</td>\n",
       "      <td>0</td>\n",
       "      <td>0</td>\n",
       "      <td>0</td>\n",
       "      <td>0</td>\n",
       "      <td>0</td>\n",
       "      <td>0</td>\n",
       "      <td>0</td>\n",
       "      <td>0</td>\n",
       "      <td>1995</td>\n",
       "    </tr>\n",
       "  </tbody>\n",
       "</table>\n",
       "<p>5 rows × 1150 columns</p>\n",
       "</div>"
      ],
      "text/plain": [
       "                                title      007  007 (series)  18th century  \\\n",
       "0                    Toy Story (1995)  0.02875       0.02375       0.06250   \n",
       "1                      Jumanji (1995)  0.04125       0.04050       0.06275   \n",
       "2             Grumpier Old Men (1995)  0.04675       0.05550       0.02925   \n",
       "3            Waiting to Exhale (1995)  0.03425       0.03800       0.04050   \n",
       "4  Father of the Bride Part II (1995)  0.04300       0.05325       0.03800   \n",
       "\n",
       "     1920s    1930s    1950s    1960s    1970s   1980s  ...  Western  \\\n",
       "0  0.07575  0.14075  0.14675  0.06350  0.20375  0.2020  ...        0   \n",
       "1  0.08275  0.09100  0.06125  0.06925  0.09600  0.0765  ...        0   \n",
       "2  0.08700  0.04750  0.04775  0.04600  0.14275  0.0285  ...        0   \n",
       "3  0.03100  0.06500  0.03575  0.02900  0.08650  0.0320  ...        0   \n",
       "4  0.04100  0.05400  0.06725  0.02775  0.07650  0.0215  ...        0   \n",
       "\n",
       "   Documentary  Mystery  Sci-Fi  Crime  (no genres listed)  Action  Drama  \\\n",
       "0            0        0       0      0                   0       0      0   \n",
       "1            0        0       0      0                   0       0      0   \n",
       "2            0        0       0      0                   0       0      0   \n",
       "3            0        0       0      0                   0       0      1   \n",
       "4            0        0       0      0                   0       0      0   \n",
       "\n",
       "   War  year  \n",
       "0    0  1995  \n",
       "1    0  1995  \n",
       "2    0  1995  \n",
       "3    0  1995  \n",
       "4    0  1995  \n",
       "\n",
       "[5 rows x 1150 columns]"
      ]
     },
     "execution_count": 11,
     "metadata": {},
     "output_type": "execute_result"
    }
   ],
   "source": [
    "data['year'] = data.title.str.extract(r'\\((\\d{4})\\)')\n",
    "\n",
    "data.head()"
   ]
  },
  {
   "cell_type": "code",
   "execution_count": 12,
   "id": "d60ca1ac",
   "metadata": {
    "scrolled": true
   },
   "outputs": [
    {
     "name": "stderr",
     "output_type": "stream",
     "text": [
      "C:\\Users\\Farid\\AppData\\Local\\Temp/ipykernel_54168/3027834932.py:1: FutureWarning: The default value of regex will change from True to False in a future version.\n",
      "  data['title'] = data.title.str.replace(r'\\(.*\\)', '')\n"
     ]
    },
    {
     "data": {
      "text/html": [
       "<div>\n",
       "<style scoped>\n",
       "    .dataframe tbody tr th:only-of-type {\n",
       "        vertical-align: middle;\n",
       "    }\n",
       "\n",
       "    .dataframe tbody tr th {\n",
       "        vertical-align: top;\n",
       "    }\n",
       "\n",
       "    .dataframe thead th {\n",
       "        text-align: right;\n",
       "    }\n",
       "</style>\n",
       "<table border=\"1\" class=\"dataframe\">\n",
       "  <thead>\n",
       "    <tr style=\"text-align: right;\">\n",
       "      <th></th>\n",
       "      <th>title</th>\n",
       "      <th>007</th>\n",
       "      <th>007 (series)</th>\n",
       "      <th>18th century</th>\n",
       "      <th>1920s</th>\n",
       "      <th>1930s</th>\n",
       "      <th>1950s</th>\n",
       "      <th>1960s</th>\n",
       "      <th>1970s</th>\n",
       "      <th>1980s</th>\n",
       "      <th>...</th>\n",
       "      <th>Western</th>\n",
       "      <th>Documentary</th>\n",
       "      <th>Mystery</th>\n",
       "      <th>Sci-Fi</th>\n",
       "      <th>Crime</th>\n",
       "      <th>(no genres listed)</th>\n",
       "      <th>Action</th>\n",
       "      <th>Drama</th>\n",
       "      <th>War</th>\n",
       "      <th>year</th>\n",
       "    </tr>\n",
       "  </thead>\n",
       "  <tbody>\n",
       "    <tr>\n",
       "      <th>0</th>\n",
       "      <td>Toy Story</td>\n",
       "      <td>0.02875</td>\n",
       "      <td>0.02375</td>\n",
       "      <td>0.06250</td>\n",
       "      <td>0.07575</td>\n",
       "      <td>0.14075</td>\n",
       "      <td>0.14675</td>\n",
       "      <td>0.06350</td>\n",
       "      <td>0.20375</td>\n",
       "      <td>0.2020</td>\n",
       "      <td>...</td>\n",
       "      <td>0</td>\n",
       "      <td>0</td>\n",
       "      <td>0</td>\n",
       "      <td>0</td>\n",
       "      <td>0</td>\n",
       "      <td>0</td>\n",
       "      <td>0</td>\n",
       "      <td>0</td>\n",
       "      <td>0</td>\n",
       "      <td>1995</td>\n",
       "    </tr>\n",
       "    <tr>\n",
       "      <th>1</th>\n",
       "      <td>Jumanji</td>\n",
       "      <td>0.04125</td>\n",
       "      <td>0.04050</td>\n",
       "      <td>0.06275</td>\n",
       "      <td>0.08275</td>\n",
       "      <td>0.09100</td>\n",
       "      <td>0.06125</td>\n",
       "      <td>0.06925</td>\n",
       "      <td>0.09600</td>\n",
       "      <td>0.0765</td>\n",
       "      <td>...</td>\n",
       "      <td>0</td>\n",
       "      <td>0</td>\n",
       "      <td>0</td>\n",
       "      <td>0</td>\n",
       "      <td>0</td>\n",
       "      <td>0</td>\n",
       "      <td>0</td>\n",
       "      <td>0</td>\n",
       "      <td>0</td>\n",
       "      <td>1995</td>\n",
       "    </tr>\n",
       "    <tr>\n",
       "      <th>2</th>\n",
       "      <td>Grumpier Old Men</td>\n",
       "      <td>0.04675</td>\n",
       "      <td>0.05550</td>\n",
       "      <td>0.02925</td>\n",
       "      <td>0.08700</td>\n",
       "      <td>0.04750</td>\n",
       "      <td>0.04775</td>\n",
       "      <td>0.04600</td>\n",
       "      <td>0.14275</td>\n",
       "      <td>0.0285</td>\n",
       "      <td>...</td>\n",
       "      <td>0</td>\n",
       "      <td>0</td>\n",
       "      <td>0</td>\n",
       "      <td>0</td>\n",
       "      <td>0</td>\n",
       "      <td>0</td>\n",
       "      <td>0</td>\n",
       "      <td>0</td>\n",
       "      <td>0</td>\n",
       "      <td>1995</td>\n",
       "    </tr>\n",
       "    <tr>\n",
       "      <th>3</th>\n",
       "      <td>Waiting to Exhale</td>\n",
       "      <td>0.03425</td>\n",
       "      <td>0.03800</td>\n",
       "      <td>0.04050</td>\n",
       "      <td>0.03100</td>\n",
       "      <td>0.06500</td>\n",
       "      <td>0.03575</td>\n",
       "      <td>0.02900</td>\n",
       "      <td>0.08650</td>\n",
       "      <td>0.0320</td>\n",
       "      <td>...</td>\n",
       "      <td>0</td>\n",
       "      <td>0</td>\n",
       "      <td>0</td>\n",
       "      <td>0</td>\n",
       "      <td>0</td>\n",
       "      <td>0</td>\n",
       "      <td>0</td>\n",
       "      <td>1</td>\n",
       "      <td>0</td>\n",
       "      <td>1995</td>\n",
       "    </tr>\n",
       "    <tr>\n",
       "      <th>4</th>\n",
       "      <td>Father of the Bride Part II</td>\n",
       "      <td>0.04300</td>\n",
       "      <td>0.05325</td>\n",
       "      <td>0.03800</td>\n",
       "      <td>0.04100</td>\n",
       "      <td>0.05400</td>\n",
       "      <td>0.06725</td>\n",
       "      <td>0.02775</td>\n",
       "      <td>0.07650</td>\n",
       "      <td>0.0215</td>\n",
       "      <td>...</td>\n",
       "      <td>0</td>\n",
       "      <td>0</td>\n",
       "      <td>0</td>\n",
       "      <td>0</td>\n",
       "      <td>0</td>\n",
       "      <td>0</td>\n",
       "      <td>0</td>\n",
       "      <td>0</td>\n",
       "      <td>0</td>\n",
       "      <td>1995</td>\n",
       "    </tr>\n",
       "  </tbody>\n",
       "</table>\n",
       "<p>5 rows × 1150 columns</p>\n",
       "</div>"
      ],
      "text/plain": [
       "                          title      007  007 (series)  18th century    1920s  \\\n",
       "0                    Toy Story   0.02875       0.02375       0.06250  0.07575   \n",
       "1                      Jumanji   0.04125       0.04050       0.06275  0.08275   \n",
       "2             Grumpier Old Men   0.04675       0.05550       0.02925  0.08700   \n",
       "3            Waiting to Exhale   0.03425       0.03800       0.04050  0.03100   \n",
       "4  Father of the Bride Part II   0.04300       0.05325       0.03800  0.04100   \n",
       "\n",
       "     1930s    1950s    1960s    1970s   1980s  ...  Western  Documentary  \\\n",
       "0  0.14075  0.14675  0.06350  0.20375  0.2020  ...        0            0   \n",
       "1  0.09100  0.06125  0.06925  0.09600  0.0765  ...        0            0   \n",
       "2  0.04750  0.04775  0.04600  0.14275  0.0285  ...        0            0   \n",
       "3  0.06500  0.03575  0.02900  0.08650  0.0320  ...        0            0   \n",
       "4  0.05400  0.06725  0.02775  0.07650  0.0215  ...        0            0   \n",
       "\n",
       "   Mystery  Sci-Fi  Crime  (no genres listed)  Action  Drama  War  year  \n",
       "0        0       0      0                   0       0      0    0  1995  \n",
       "1        0       0      0                   0       0      0    0  1995  \n",
       "2        0       0      0                   0       0      0    0  1995  \n",
       "3        0       0      0                   0       0      1    0  1995  \n",
       "4        0       0      0                   0       0      0    0  1995  \n",
       "\n",
       "[5 rows x 1150 columns]"
      ]
     },
     "execution_count": 12,
     "metadata": {},
     "output_type": "execute_result"
    }
   ],
   "source": [
    "data['title'] = data.title.str.replace(r'\\(.*\\)', '')\n",
    "data.head()"
   ]
  },
  {
   "cell_type": "code",
   "execution_count": 13,
   "id": "bfa005c7",
   "metadata": {},
   "outputs": [
    {
     "data": {
      "text/html": [
       "<div>\n",
       "<style scoped>\n",
       "    .dataframe tbody tr th:only-of-type {\n",
       "        vertical-align: middle;\n",
       "    }\n",
       "\n",
       "    .dataframe tbody tr th {\n",
       "        vertical-align: top;\n",
       "    }\n",
       "\n",
       "    .dataframe thead th {\n",
       "        text-align: right;\n",
       "    }\n",
       "</style>\n",
       "<table border=\"1\" class=\"dataframe\">\n",
       "  <thead>\n",
       "    <tr style=\"text-align: right;\">\n",
       "      <th></th>\n",
       "      <th>title</th>\n",
       "      <th>007</th>\n",
       "      <th>007 (series)</th>\n",
       "      <th>18th century</th>\n",
       "      <th>1920s</th>\n",
       "      <th>1930s</th>\n",
       "      <th>1950s</th>\n",
       "      <th>1960s</th>\n",
       "      <th>1970s</th>\n",
       "      <th>1980s</th>\n",
       "      <th>...</th>\n",
       "      <th>Western</th>\n",
       "      <th>Documentary</th>\n",
       "      <th>Mystery</th>\n",
       "      <th>Sci-Fi</th>\n",
       "      <th>Crime</th>\n",
       "      <th>(no genres listed)</th>\n",
       "      <th>Action</th>\n",
       "      <th>Drama</th>\n",
       "      <th>War</th>\n",
       "      <th>year</th>\n",
       "    </tr>\n",
       "  </thead>\n",
       "  <tbody>\n",
       "    <tr>\n",
       "      <th>0</th>\n",
       "      <td>Toy Story</td>\n",
       "      <td>0.02875</td>\n",
       "      <td>0.02375</td>\n",
       "      <td>0.06250</td>\n",
       "      <td>0.07575</td>\n",
       "      <td>0.14075</td>\n",
       "      <td>0.14675</td>\n",
       "      <td>0.06350</td>\n",
       "      <td>0.20375</td>\n",
       "      <td>0.2020</td>\n",
       "      <td>...</td>\n",
       "      <td>0</td>\n",
       "      <td>0</td>\n",
       "      <td>0</td>\n",
       "      <td>0</td>\n",
       "      <td>0</td>\n",
       "      <td>0</td>\n",
       "      <td>0</td>\n",
       "      <td>0</td>\n",
       "      <td>0</td>\n",
       "      <td>1995</td>\n",
       "    </tr>\n",
       "    <tr>\n",
       "      <th>1</th>\n",
       "      <td>Jumanji</td>\n",
       "      <td>0.04125</td>\n",
       "      <td>0.04050</td>\n",
       "      <td>0.06275</td>\n",
       "      <td>0.08275</td>\n",
       "      <td>0.09100</td>\n",
       "      <td>0.06125</td>\n",
       "      <td>0.06925</td>\n",
       "      <td>0.09600</td>\n",
       "      <td>0.0765</td>\n",
       "      <td>...</td>\n",
       "      <td>0</td>\n",
       "      <td>0</td>\n",
       "      <td>0</td>\n",
       "      <td>0</td>\n",
       "      <td>0</td>\n",
       "      <td>0</td>\n",
       "      <td>0</td>\n",
       "      <td>0</td>\n",
       "      <td>0</td>\n",
       "      <td>1995</td>\n",
       "    </tr>\n",
       "    <tr>\n",
       "      <th>2</th>\n",
       "      <td>Grumpier Old Men</td>\n",
       "      <td>0.04675</td>\n",
       "      <td>0.05550</td>\n",
       "      <td>0.02925</td>\n",
       "      <td>0.08700</td>\n",
       "      <td>0.04750</td>\n",
       "      <td>0.04775</td>\n",
       "      <td>0.04600</td>\n",
       "      <td>0.14275</td>\n",
       "      <td>0.0285</td>\n",
       "      <td>...</td>\n",
       "      <td>0</td>\n",
       "      <td>0</td>\n",
       "      <td>0</td>\n",
       "      <td>0</td>\n",
       "      <td>0</td>\n",
       "      <td>0</td>\n",
       "      <td>0</td>\n",
       "      <td>0</td>\n",
       "      <td>0</td>\n",
       "      <td>1995</td>\n",
       "    </tr>\n",
       "    <tr>\n",
       "      <th>3</th>\n",
       "      <td>Waiting to Exhale</td>\n",
       "      <td>0.03425</td>\n",
       "      <td>0.03800</td>\n",
       "      <td>0.04050</td>\n",
       "      <td>0.03100</td>\n",
       "      <td>0.06500</td>\n",
       "      <td>0.03575</td>\n",
       "      <td>0.02900</td>\n",
       "      <td>0.08650</td>\n",
       "      <td>0.0320</td>\n",
       "      <td>...</td>\n",
       "      <td>0</td>\n",
       "      <td>0</td>\n",
       "      <td>0</td>\n",
       "      <td>0</td>\n",
       "      <td>0</td>\n",
       "      <td>0</td>\n",
       "      <td>0</td>\n",
       "      <td>1</td>\n",
       "      <td>0</td>\n",
       "      <td>1995</td>\n",
       "    </tr>\n",
       "    <tr>\n",
       "      <th>4</th>\n",
       "      <td>Father of the Bride Part II</td>\n",
       "      <td>0.04300</td>\n",
       "      <td>0.05325</td>\n",
       "      <td>0.03800</td>\n",
       "      <td>0.04100</td>\n",
       "      <td>0.05400</td>\n",
       "      <td>0.06725</td>\n",
       "      <td>0.02775</td>\n",
       "      <td>0.07650</td>\n",
       "      <td>0.0215</td>\n",
       "      <td>...</td>\n",
       "      <td>0</td>\n",
       "      <td>0</td>\n",
       "      <td>0</td>\n",
       "      <td>0</td>\n",
       "      <td>0</td>\n",
       "      <td>0</td>\n",
       "      <td>0</td>\n",
       "      <td>0</td>\n",
       "      <td>0</td>\n",
       "      <td>1995</td>\n",
       "    </tr>\n",
       "  </tbody>\n",
       "</table>\n",
       "<p>5 rows × 1150 columns</p>\n",
       "</div>"
      ],
      "text/plain": [
       "                         title      007  007 (series)  18th century    1920s  \\\n",
       "0                    Toy Story  0.02875       0.02375       0.06250  0.07575   \n",
       "1                      Jumanji  0.04125       0.04050       0.06275  0.08275   \n",
       "2             Grumpier Old Men  0.04675       0.05550       0.02925  0.08700   \n",
       "3            Waiting to Exhale  0.03425       0.03800       0.04050  0.03100   \n",
       "4  Father of the Bride Part II  0.04300       0.05325       0.03800  0.04100   \n",
       "\n",
       "     1930s    1950s    1960s    1970s   1980s  ...  Western  Documentary  \\\n",
       "0  0.14075  0.14675  0.06350  0.20375  0.2020  ...        0            0   \n",
       "1  0.09100  0.06125  0.06925  0.09600  0.0765  ...        0            0   \n",
       "2  0.04750  0.04775  0.04600  0.14275  0.0285  ...        0            0   \n",
       "3  0.06500  0.03575  0.02900  0.08650  0.0320  ...        0            0   \n",
       "4  0.05400  0.06725  0.02775  0.07650  0.0215  ...        0            0   \n",
       "\n",
       "   Mystery  Sci-Fi  Crime  (no genres listed)  Action  Drama  War  year  \n",
       "0        0       0      0                   0       0      0    0  1995  \n",
       "1        0       0      0                   0       0      0    0  1995  \n",
       "2        0       0      0                   0       0      0    0  1995  \n",
       "3        0       0      0                   0       0      1    0  1995  \n",
       "4        0       0      0                   0       0      0    0  1995  \n",
       "\n",
       "[5 rows x 1150 columns]"
      ]
     },
     "execution_count": 13,
     "metadata": {},
     "output_type": "execute_result"
    }
   ],
   "source": [
    "data[\"title\"] = data[\"title\"].str.rstrip()\n",
    "data.head()"
   ]
  },
  {
   "cell_type": "code",
   "execution_count": 14,
   "id": "52f5d025",
   "metadata": {},
   "outputs": [],
   "source": [
    "data.drop(\"(no genres listed)\", axis=1, inplace=True)\n",
    "final_genres.remove(\"(no genres listed)\")"
   ]
  },
  {
   "cell_type": "code",
   "execution_count": 15,
   "id": "1b8f698e",
   "metadata": {},
   "outputs": [],
   "source": [
    "data.drop_duplicates(\"title\", keep=\"first\",inplace=True)"
   ]
  },
  {
   "cell_type": "code",
   "execution_count": 16,
   "id": "25a8afba",
   "metadata": {},
   "outputs": [],
   "source": [
    "nullyears = np.where(data['year'].isnull())[0]\n"
   ]
  },
  {
   "cell_type": "code",
   "execution_count": 92,
   "id": "dd4e2d61",
   "metadata": {},
   "outputs": [],
   "source": [
    "pickle.dump(data, open(\"movies_data.pkl\", \"wb\"))"
   ]
  },
  {
   "cell_type": "code",
   "execution_count": null,
   "id": "a8e7c343",
   "metadata": {},
   "outputs": [],
   "source": []
  },
  {
   "cell_type": "markdown",
   "id": "aa033a39",
   "metadata": {},
   "source": [
    "# A visualization"
   ]
  },
  {
   "cell_type": "code",
   "execution_count": 16,
   "id": "91b98d68",
   "metadata": {},
   "outputs": [],
   "source": [
    "genres_dict = {}\n",
    "for i in final_genres:\n",
    "    count = data[i].sum()\n",
    "    genres_dict[i] = count"
   ]
  },
  {
   "cell_type": "code",
   "execution_count": 17,
   "id": "c8f4073a",
   "metadata": {},
   "outputs": [],
   "source": [
    "genre_counts = pd.DataFrame(genres_dict.items())\n",
    "genre_counts.rename(columns={0:\"Genre\", 1:\"Count\"}, inplace=True)"
   ]
  },
  {
   "cell_type": "code",
   "execution_count": null,
   "id": "d2ec3861",
   "metadata": {},
   "outputs": [],
   "source": [
    "def similarityFn(title1, title2):\n",
    "        sim = 0\n",
    "        first_mt = title1[tags]\n",
    "        first_mg = title1[genres]\n",
    "        second_mt = title2[tags]\n",
    "        second_mg = title2[genres]\n",
    "        \n",
    "        genre_sim = spatial.distance.cosine(first_mg, second_mg)\n",
    "        tags_sim = spatial.distance.cosine(first_mt, second_mt)\n",
    "\n",
    "        sim = genre_sim + tags_sim\n",
    "        return sim"
   ]
  },
  {
   "cell_type": "code",
   "execution_count": 18,
   "id": "bc42ab76",
   "metadata": {},
   "outputs": [
    {
     "data": {
      "image/png": "[encoded data removed]",
      "text/plain": [
       "<Figure size 432x288 with 1 Axes>"
      ]
     },
     "metadata": {
      "needs_background": "light"
     },
     "output_type": "display_data"
    }
   ],
   "source": [
    "ax = sns.barplot(data=genre_counts, x=\"Genre\", y=\"Count\", order=genre_counts.sort_values('Count', ascending=False).Genre)\n",
    "ax.tick_params(axis='x', rotation=90)\n"
   ]
  },
  {
   "cell_type": "markdown",
   "id": "028c33fb",
   "metadata": {},
   "source": [
    "# Recommender Engine "
   ]
  },
  {
   "cell_type": "code",
   "execution_count": 17,
   "id": "a7e526cd",
   "metadata": {},
   "outputs": [],
   "source": [
    "def distFn(arr):\n",
    "    norm = arr/np.linalg.norm(arr, axis=-1)[:, np.newaxis]\n",
    "    p = np.dot(norm, norm.T)\n",
    "    dist = 1-p\n",
    "    return dist\n"
   ]
  },
  {
   "cell_type": "code",
   "execution_count": 18,
   "id": "7c3e869c",
   "metadata": {},
   "outputs": [],
   "source": [
    "def recommender(k, title, distmatrix):\n",
    "\n",
    "    reccs = []\n",
    "    movie = distmatrix.loc[title].sort_values(axis=0)\n",
    "    \n",
    "    for y in range(k):\n",
    "        reccs.append(movie.index[y+1])\n",
    "    \n",
    "    return reccs\n",
    "    \n",
    "    "
   ]
  },
  {
   "cell_type": "code",
   "execution_count": 25,
   "id": "fb0e1dbc",
   "metadata": {},
   "outputs": [],
   "source": [
    "data_pca = data.copy(deep=True)\n",
    "data_pca.drop('year', axis=1, inplace=True)"
   ]
  },
  {
   "cell_type": "code",
   "execution_count": 28,
   "id": "8ed571c1",
   "metadata": {},
   "outputs": [],
   "source": [
    "x = data_pca.loc[:, data_pca.columns[1:]].values\n",
    "x = StandardScaler().fit_transform(x)"
   ]
  },
  {
   "cell_type": "code",
   "execution_count": 29,
   "id": "4d047a57",
   "metadata": {},
   "outputs": [],
   "source": [
    "pca = PCA(n_components=.95)\n",
    "pca_movies = pca.fit_transform(x)"
   ]
  },
  {
   "cell_type": "code",
   "execution_count": 30,
   "id": "26deb4f9",
   "metadata": {},
   "outputs": [
    {
     "data": {
      "text/plain": [
       "(13265, 678)"
      ]
     },
     "execution_count": 30,
     "metadata": {},
     "output_type": "execute_result"
    }
   ],
   "source": [
    "pca_movies.shape"
   ]
  },
  {
   "cell_type": "code",
   "execution_count": 31,
   "id": "4dd4a02a",
   "metadata": {},
   "outputs": [],
   "source": [
    "pca_cols = ['principal_component'+str(i) for i in range(pca_movies.shape[1])]\n",
    "\n",
    "pca_df = pd.DataFrame(pca_movies, columns=pca_cols)"
   ]
  },
  {
   "cell_type": "code",
   "execution_count": 32,
   "id": "981a3492",
   "metadata": {},
   "outputs": [
    {
     "data": {
      "text/html": [
       "<div>\n",
       "<style scoped>\n",
       "    .dataframe tbody tr th:only-of-type {\n",
       "        vertical-align: middle;\n",
       "    }\n",
       "\n",
       "    .dataframe tbody tr th {\n",
       "        vertical-align: top;\n",
       "    }\n",
       "\n",
       "    .dataframe thead th {\n",
       "        text-align: right;\n",
       "    }\n",
       "</style>\n",
       "<table border=\"1\" class=\"dataframe\">\n",
       "  <thead>\n",
       "    <tr style=\"text-align: right;\">\n",
       "      <th></th>\n",
       "      <th>principal_component0</th>\n",
       "      <th>principal_component1</th>\n",
       "      <th>principal_component2</th>\n",
       "      <th>principal_component3</th>\n",
       "      <th>principal_component4</th>\n",
       "      <th>principal_component5</th>\n",
       "      <th>principal_component6</th>\n",
       "      <th>principal_component7</th>\n",
       "      <th>principal_component8</th>\n",
       "      <th>principal_component9</th>\n",
       "      <th>...</th>\n",
       "      <th>principal_component668</th>\n",
       "      <th>principal_component669</th>\n",
       "      <th>principal_component670</th>\n",
       "      <th>principal_component671</th>\n",
       "      <th>principal_component672</th>\n",
       "      <th>principal_component673</th>\n",
       "      <th>principal_component674</th>\n",
       "      <th>principal_component675</th>\n",
       "      <th>principal_component676</th>\n",
       "      <th>principal_component677</th>\n",
       "    </tr>\n",
       "  </thead>\n",
       "  <tbody>\n",
       "    <tr>\n",
       "      <th>0</th>\n",
       "      <td>5.132222</td>\n",
       "      <td>18.798872</td>\n",
       "      <td>-16.517664</td>\n",
       "      <td>10.971780</td>\n",
       "      <td>12.235776</td>\n",
       "      <td>12.929198</td>\n",
       "      <td>2.345768</td>\n",
       "      <td>-7.662490</td>\n",
       "      <td>-8.572294</td>\n",
       "      <td>-6.687325</td>\n",
       "      <td>...</td>\n",
       "      <td>0.412996</td>\n",
       "      <td>-1.299405</td>\n",
       "      <td>0.271990</td>\n",
       "      <td>0.126639</td>\n",
       "      <td>-0.051880</td>\n",
       "      <td>0.520836</td>\n",
       "      <td>0.196731</td>\n",
       "      <td>-0.329621</td>\n",
       "      <td>0.616947</td>\n",
       "      <td>-0.076249</td>\n",
       "    </tr>\n",
       "    <tr>\n",
       "      <th>1</th>\n",
       "      <td>-11.361463</td>\n",
       "      <td>14.181341</td>\n",
       "      <td>-7.629066</td>\n",
       "      <td>9.812138</td>\n",
       "      <td>2.262788</td>\n",
       "      <td>5.136731</td>\n",
       "      <td>-0.346075</td>\n",
       "      <td>-8.025678</td>\n",
       "      <td>-4.682979</td>\n",
       "      <td>-0.378246</td>\n",
       "      <td>...</td>\n",
       "      <td>-0.495825</td>\n",
       "      <td>-0.506620</td>\n",
       "      <td>0.215286</td>\n",
       "      <td>-0.648411</td>\n",
       "      <td>0.079930</td>\n",
       "      <td>0.060830</td>\n",
       "      <td>-0.340061</td>\n",
       "      <td>-0.343874</td>\n",
       "      <td>0.315687</td>\n",
       "      <td>-0.546412</td>\n",
       "    </tr>\n",
       "    <tr>\n",
       "      <th>2</th>\n",
       "      <td>-9.681352</td>\n",
       "      <td>-1.475858</td>\n",
       "      <td>-4.303920</td>\n",
       "      <td>-2.388185</td>\n",
       "      <td>2.140802</td>\n",
       "      <td>1.144971</td>\n",
       "      <td>1.354980</td>\n",
       "      <td>0.429799</td>\n",
       "      <td>-0.486850</td>\n",
       "      <td>-0.889838</td>\n",
       "      <td>...</td>\n",
       "      <td>-0.396636</td>\n",
       "      <td>-0.459113</td>\n",
       "      <td>-0.659042</td>\n",
       "      <td>-0.083726</td>\n",
       "      <td>-0.425410</td>\n",
       "      <td>0.027524</td>\n",
       "      <td>-0.019455</td>\n",
       "      <td>-0.826289</td>\n",
       "      <td>-0.270687</td>\n",
       "      <td>-0.809617</td>\n",
       "    </tr>\n",
       "    <tr>\n",
       "      <th>3</th>\n",
       "      <td>-8.141794</td>\n",
       "      <td>-6.541326</td>\n",
       "      <td>-5.382607</td>\n",
       "      <td>-0.885764</td>\n",
       "      <td>0.452023</td>\n",
       "      <td>-2.270653</td>\n",
       "      <td>3.700132</td>\n",
       "      <td>-1.544174</td>\n",
       "      <td>0.148379</td>\n",
       "      <td>2.865696</td>\n",
       "      <td>...</td>\n",
       "      <td>-0.657296</td>\n",
       "      <td>0.141733</td>\n",
       "      <td>-0.200376</td>\n",
       "      <td>-0.650330</td>\n",
       "      <td>0.520379</td>\n",
       "      <td>-0.599329</td>\n",
       "      <td>0.139583</td>\n",
       "      <td>0.064222</td>\n",
       "      <td>-0.112659</td>\n",
       "      <td>-0.293449</td>\n",
       "    </tr>\n",
       "    <tr>\n",
       "      <th>4</th>\n",
       "      <td>-10.719279</td>\n",
       "      <td>-2.360187</td>\n",
       "      <td>-8.018455</td>\n",
       "      <td>-0.682728</td>\n",
       "      <td>3.258686</td>\n",
       "      <td>-1.378830</td>\n",
       "      <td>3.942993</td>\n",
       "      <td>-2.127569</td>\n",
       "      <td>-0.541729</td>\n",
       "      <td>0.185650</td>\n",
       "      <td>...</td>\n",
       "      <td>-0.326589</td>\n",
       "      <td>-0.037526</td>\n",
       "      <td>-0.607580</td>\n",
       "      <td>-0.262631</td>\n",
       "      <td>0.291984</td>\n",
       "      <td>0.538384</td>\n",
       "      <td>0.255474</td>\n",
       "      <td>-0.236904</td>\n",
       "      <td>-0.176669</td>\n",
       "      <td>-0.389380</td>\n",
       "    </tr>\n",
       "  </tbody>\n",
       "</table>\n",
       "<p>5 rows × 678 columns</p>\n",
       "</div>"
      ],
      "text/plain": [
       "   principal_component0  principal_component1  principal_component2  \\\n",
       "0              5.132222             18.798872            -16.517664   \n",
       "1            -11.361463             14.181341             -7.629066   \n",
       "2             -9.681352             -1.475858             -4.303920   \n",
       "3             -8.141794             -6.541326             -5.382607   \n",
       "4            -10.719279             -2.360187             -8.018455   \n",
       "\n",
       "   principal_component3  principal_component4  principal_component5  \\\n",
       "0             10.971780             12.235776             12.929198   \n",
       "1              9.812138              2.262788              5.136731   \n",
       "2             -2.388185              2.140802              1.144971   \n",
       "3             -0.885764              0.452023             -2.270653   \n",
       "4             -0.682728              3.258686             -1.378830   \n",
       "\n",
       "   principal_component6  principal_component7  principal_component8  \\\n",
       "0              2.345768             -7.662490             -8.572294   \n",
       "1             -0.346075             -8.025678             -4.682979   \n",
       "2              1.354980              0.429799             -0.486850   \n",
       "3              3.700132             -1.544174              0.148379   \n",
       "4              3.942993             -2.127569             -0.541729   \n",
       "\n",
       "   principal_component9  ...  principal_component668  principal_component669  \\\n",
       "0             -6.687325  ...                0.412996               -1.299405   \n",
       "1             -0.378246  ...               -0.495825               -0.506620   \n",
       "2             -0.889838  ...               -0.396636               -0.459113   \n",
       "3              2.865696  ...               -0.657296                0.141733   \n",
       "4              0.185650  ...               -0.326589               -0.037526   \n",
       "\n",
       "   principal_component670  principal_component671  principal_component672  \\\n",
       "0                0.271990                0.126639               -0.051880   \n",
       "1                0.215286               -0.648411                0.079930   \n",
       "2               -0.659042               -0.083726               -0.425410   \n",
       "3               -0.200376               -0.650330                0.520379   \n",
       "4               -0.607580               -0.262631                0.291984   \n",
       "\n",
       "   principal_component673  principal_component674  principal_component675  \\\n",
       "0                0.520836                0.196731               -0.329621   \n",
       "1                0.060830               -0.340061               -0.343874   \n",
       "2                0.027524               -0.019455               -0.826289   \n",
       "3               -0.599329                0.139583                0.064222   \n",
       "4                0.538384                0.255474               -0.236904   \n",
       "\n",
       "   principal_component676  principal_component677  \n",
       "0                0.616947               -0.076249  \n",
       "1                0.315687               -0.546412  \n",
       "2               -0.270687               -0.809617  \n",
       "3               -0.112659               -0.293449  \n",
       "4               -0.176669               -0.389380  \n",
       "\n",
       "[5 rows x 678 columns]"
      ]
     },
     "execution_count": 32,
     "metadata": {},
     "output_type": "execute_result"
    }
   ],
   "source": [
    "pca_df.head()"
   ]
  },
  {
   "cell_type": "code",
   "execution_count": 33,
   "id": "0d12a3a5",
   "metadata": {},
   "outputs": [],
   "source": [
    "numpy_pca = pca_df.to_numpy()"
   ]
  },
  {
   "cell_type": "code",
   "execution_count": 34,
   "id": "2cfb3ab8",
   "metadata": {},
   "outputs": [
    {
     "data": {
      "text/plain": [
       "(13265, 678)"
      ]
     },
     "execution_count": 34,
     "metadata": {},
     "output_type": "execute_result"
    }
   ],
   "source": [
    "numpy_pca.shape"
   ]
  },
  {
   "cell_type": "code",
   "execution_count": 41,
   "id": "e8fe4842",
   "metadata": {},
   "outputs": [],
   "source": [
    "cos_mat = distFn(numpy_pca)"
   ]
  },
  {
   "cell_type": "code",
   "execution_count": 42,
   "id": "69a76f8f",
   "metadata": {},
   "outputs": [
    {
     "data": {
      "text/plain": [
       "array([[-8.88178420e-16,  6.58159289e-01,  1.00543601e+00, ...,\n",
       "         9.72957506e-01,  7.85259347e-01,  9.53708467e-01],\n",
       "       [ 6.58159289e-01, -2.44249065e-15,  9.34449090e-01, ...,\n",
       "         1.08545155e+00,  9.87284754e-01,  1.02929840e+00],\n",
       "       [ 1.00543601e+00,  9.34449090e-01,  9.99200722e-16, ...,\n",
       "         9.91497963e-01,  1.08936233e+00,  9.90497544e-01],\n",
       "       ...,\n",
       "       [ 9.72957506e-01,  1.08545155e+00,  9.91497963e-01, ...,\n",
       "         1.44328993e-15,  6.72621289e-01,  6.83472569e-01],\n",
       "       [ 7.85259347e-01,  9.87284754e-01,  1.08936233e+00, ...,\n",
       "         6.72621289e-01, -1.33226763e-15,  5.73996294e-01],\n",
       "       [ 9.53708467e-01,  1.02929840e+00,  9.90497544e-01, ...,\n",
       "         6.83472569e-01,  5.73996294e-01, -1.33226763e-15]])"
      ]
     },
     "execution_count": 42,
     "metadata": {},
     "output_type": "execute_result"
    }
   ],
   "source": [
    "cos_mat"
   ]
  },
  {
   "cell_type": "code",
   "execution_count": 43,
   "id": "cc6b94bc",
   "metadata": {},
   "outputs": [
    {
     "data": {
      "text/plain": [
       "dtype('float64')"
      ]
     },
     "execution_count": 43,
     "metadata": {},
     "output_type": "execute_result"
    }
   ],
   "source": [
    "cos_mat.dtype"
   ]
  },
  {
   "cell_type": "code",
   "execution_count": 44,
   "id": "e22f5be6",
   "metadata": {},
   "outputs": [],
   "source": [
    "cos_mat = cos_mat.astype(np.float16)"
   ]
  },
  {
   "cell_type": "code",
   "execution_count": 45,
   "id": "ac6c8506",
   "metadata": {},
   "outputs": [
    {
     "data": {
      "text/plain": [
       "dtype('float16')"
      ]
     },
     "execution_count": 45,
     "metadata": {},
     "output_type": "execute_result"
    }
   ],
   "source": [
    "cos_mat.dtype"
   ]
  },
  {
   "cell_type": "code",
   "execution_count": 46,
   "id": "91ddf205",
   "metadata": {},
   "outputs": [
    {
     "data": {
      "text/plain": [
       "array([[-0.    ,  0.658 ,  1.006 , ...,  0.973 ,  0.785 ,  0.9536],\n",
       "       [ 0.658 , -0.    ,  0.9346, ...,  1.086 ,  0.9873,  1.029 ],\n",
       "       [ 1.006 ,  0.9346,  0.    , ...,  0.9917,  1.09  ,  0.9907],\n",
       "       ...,\n",
       "       [ 0.973 ,  1.086 ,  0.9917, ...,  0.    ,  0.673 ,  0.6836],\n",
       "       [ 0.785 ,  0.9873,  1.09  , ...,  0.673 , -0.    ,  0.574 ],\n",
       "       [ 0.9536,  1.029 ,  0.9907, ...,  0.6836,  0.574 , -0.    ]],\n",
       "      dtype=float16)"
      ]
     },
     "execution_count": 46,
     "metadata": {},
     "output_type": "execute_result"
    }
   ],
   "source": [
    "cos_mat"
   ]
  },
  {
   "cell_type": "code",
   "execution_count": 48,
   "id": "304d330a",
   "metadata": {},
   "outputs": [
    {
     "data": {
      "text/plain": [
       "351920570"
      ]
     },
     "execution_count": 48,
     "metadata": {},
     "output_type": "execute_result"
    }
   ],
   "source": [
    "sys.getsizeof(cos_mat)"
   ]
  },
  {
   "cell_type": "code",
   "execution_count": 49,
   "id": "37278489",
   "metadata": {},
   "outputs": [
    {
     "data": {
      "text/html": [
       "<div>\n",
       "<style scoped>\n",
       "    .dataframe tbody tr th:only-of-type {\n",
       "        vertical-align: middle;\n",
       "    }\n",
       "\n",
       "    .dataframe tbody tr th {\n",
       "        vertical-align: top;\n",
       "    }\n",
       "\n",
       "    .dataframe thead th {\n",
       "        text-align: right;\n",
       "    }\n",
       "</style>\n",
       "<table border=\"1\" class=\"dataframe\">\n",
       "  <thead>\n",
       "    <tr style=\"text-align: right;\">\n",
       "      <th></th>\n",
       "      <th>Toy Story</th>\n",
       "      <th>Jumanji</th>\n",
       "      <th>Grumpier Old Men</th>\n",
       "      <th>Waiting to Exhale</th>\n",
       "      <th>Father of the Bride Part II</th>\n",
       "      <th>Heat</th>\n",
       "      <th>Sabrina</th>\n",
       "      <th>Tom and Huck</th>\n",
       "      <th>Sudden Death</th>\n",
       "      <th>GoldenEye</th>\n",
       "      <th>...</th>\n",
       "      <th>Ad Astra</th>\n",
       "      <th>It: Chapter Two</th>\n",
       "      <th>In the Tall Grass</th>\n",
       "      <th>Joker</th>\n",
       "      <th>Ready or Not</th>\n",
       "      <th>Zombieland: Double Tap</th>\n",
       "      <th>Downton Abbey</th>\n",
       "      <th>El Camino: A Breaking Bad Movie</th>\n",
       "      <th>Dave Chappelle: Sticks &amp; Stones</th>\n",
       "      <th>Between Two Ferns: The Movie</th>\n",
       "    </tr>\n",
       "  </thead>\n",
       "  <tbody>\n",
       "    <tr>\n",
       "      <th>Toy Story</th>\n",
       "      <td>-0.000000</td>\n",
       "      <td>0.658203</td>\n",
       "      <td>1.005859</td>\n",
       "      <td>1.097656</td>\n",
       "      <td>0.972656</td>\n",
       "      <td>0.956543</td>\n",
       "      <td>0.996582</td>\n",
       "      <td>0.977539</td>\n",
       "      <td>1.130859</td>\n",
       "      <td>0.917969</td>\n",
       "      <td>...</td>\n",
       "      <td>0.901367</td>\n",
       "      <td>0.750488</td>\n",
       "      <td>0.969727</td>\n",
       "      <td>0.770996</td>\n",
       "      <td>0.861328</td>\n",
       "      <td>0.708984</td>\n",
       "      <td>0.964355</td>\n",
       "      <td>0.973145</td>\n",
       "      <td>0.785156</td>\n",
       "      <td>0.953613</td>\n",
       "    </tr>\n",
       "    <tr>\n",
       "      <th>Jumanji</th>\n",
       "      <td>0.658203</td>\n",
       "      <td>-0.000000</td>\n",
       "      <td>0.934570</td>\n",
       "      <td>0.960938</td>\n",
       "      <td>0.888184</td>\n",
       "      <td>1.164062</td>\n",
       "      <td>0.894531</td>\n",
       "      <td>0.719727</td>\n",
       "      <td>0.837891</td>\n",
       "      <td>0.858398</td>\n",
       "      <td>...</td>\n",
       "      <td>1.156250</td>\n",
       "      <td>0.815918</td>\n",
       "      <td>0.958496</td>\n",
       "      <td>1.079102</td>\n",
       "      <td>0.830566</td>\n",
       "      <td>0.856934</td>\n",
       "      <td>1.108398</td>\n",
       "      <td>1.085938</td>\n",
       "      <td>0.987305</td>\n",
       "      <td>1.029297</td>\n",
       "    </tr>\n",
       "    <tr>\n",
       "      <th>Grumpier Old Men</th>\n",
       "      <td>1.005859</td>\n",
       "      <td>0.934570</td>\n",
       "      <td>0.000000</td>\n",
       "      <td>0.703613</td>\n",
       "      <td>0.492432</td>\n",
       "      <td>1.174805</td>\n",
       "      <td>0.681152</td>\n",
       "      <td>0.757324</td>\n",
       "      <td>0.851562</td>\n",
       "      <td>0.950684</td>\n",
       "      <td>...</td>\n",
       "      <td>1.179688</td>\n",
       "      <td>1.025391</td>\n",
       "      <td>1.179688</td>\n",
       "      <td>1.261719</td>\n",
       "      <td>1.004883</td>\n",
       "      <td>0.985352</td>\n",
       "      <td>0.949707</td>\n",
       "      <td>0.991699</td>\n",
       "      <td>1.089844</td>\n",
       "      <td>0.990723</td>\n",
       "    </tr>\n",
       "    <tr>\n",
       "      <th>Waiting to Exhale</th>\n",
       "      <td>1.097656</td>\n",
       "      <td>0.960938</td>\n",
       "      <td>0.703613</td>\n",
       "      <td>0.000000</td>\n",
       "      <td>0.642090</td>\n",
       "      <td>1.249023</td>\n",
       "      <td>0.549316</td>\n",
       "      <td>0.586426</td>\n",
       "      <td>0.837402</td>\n",
       "      <td>1.040039</td>\n",
       "      <td>...</td>\n",
       "      <td>1.297852</td>\n",
       "      <td>1.108398</td>\n",
       "      <td>1.253906</td>\n",
       "      <td>1.356445</td>\n",
       "      <td>1.091797</td>\n",
       "      <td>1.116211</td>\n",
       "      <td>0.811523</td>\n",
       "      <td>1.203125</td>\n",
       "      <td>1.298828</td>\n",
       "      <td>1.134766</td>\n",
       "    </tr>\n",
       "    <tr>\n",
       "      <th>Father of the Bride Part II</th>\n",
       "      <td>0.972656</td>\n",
       "      <td>0.888184</td>\n",
       "      <td>0.492432</td>\n",
       "      <td>0.642090</td>\n",
       "      <td>-0.000000</td>\n",
       "      <td>1.213867</td>\n",
       "      <td>0.600586</td>\n",
       "      <td>0.753418</td>\n",
       "      <td>0.859375</td>\n",
       "      <td>0.966309</td>\n",
       "      <td>...</td>\n",
       "      <td>1.216797</td>\n",
       "      <td>1.010742</td>\n",
       "      <td>1.169922</td>\n",
       "      <td>1.210938</td>\n",
       "      <td>0.894043</td>\n",
       "      <td>1.009766</td>\n",
       "      <td>0.917480</td>\n",
       "      <td>1.095703</td>\n",
       "      <td>1.105469</td>\n",
       "      <td>1.033203</td>\n",
       "    </tr>\n",
       "  </tbody>\n",
       "</table>\n",
       "<p>5 rows × 13265 columns</p>\n",
       "</div>"
      ],
      "text/plain": [
       "                             Toy Story   Jumanji  Grumpier Old Men  \\\n",
       "Toy Story                    -0.000000  0.658203          1.005859   \n",
       "Jumanji                       0.658203 -0.000000          0.934570   \n",
       "Grumpier Old Men              1.005859  0.934570          0.000000   \n",
       "Waiting to Exhale             1.097656  0.960938          0.703613   \n",
       "Father of the Bride Part II   0.972656  0.888184          0.492432   \n",
       "\n",
       "                             Waiting to Exhale  Father of the Bride Part II  \\\n",
       "Toy Story                             1.097656                     0.972656   \n",
       "Jumanji                               0.960938                     0.888184   \n",
       "Grumpier Old Men                      0.703613                     0.492432   \n",
       "Waiting to Exhale                     0.000000                     0.642090   \n",
       "Father of the Bride Part II           0.642090                    -0.000000   \n",
       "\n",
       "                                 Heat   Sabrina  Tom and Huck  Sudden Death  \\\n",
       "Toy Story                    0.956543  0.996582      0.977539      1.130859   \n",
       "Jumanji                      1.164062  0.894531      0.719727      0.837891   \n",
       "Grumpier Old Men             1.174805  0.681152      0.757324      0.851562   \n",
       "Waiting to Exhale            1.249023  0.549316      0.586426      0.837402   \n",
       "Father of the Bride Part II  1.213867  0.600586      0.753418      0.859375   \n",
       "\n",
       "                             GoldenEye  ...  Ad Astra  It: Chapter Two  \\\n",
       "Toy Story                     0.917969  ...  0.901367         0.750488   \n",
       "Jumanji                       0.858398  ...  1.156250         0.815918   \n",
       "Grumpier Old Men              0.950684  ...  1.179688         1.025391   \n",
       "Waiting to Exhale             1.040039  ...  1.297852         1.108398   \n",
       "Father of the Bride Part II   0.966309  ...  1.216797         1.010742   \n",
       "\n",
       "                             In the Tall Grass     Joker  Ready or Not  \\\n",
       "Toy Story                             0.969727  0.770996      0.861328   \n",
       "Jumanji                               0.958496  1.079102      0.830566   \n",
       "Grumpier Old Men                      1.179688  1.261719      1.004883   \n",
       "Waiting to Exhale                     1.253906  1.356445      1.091797   \n",
       "Father of the Bride Part II           1.169922  1.210938      0.894043   \n",
       "\n",
       "                             Zombieland: Double Tap  Downton Abbey  \\\n",
       "Toy Story                                  0.708984       0.964355   \n",
       "Jumanji                                    0.856934       1.108398   \n",
       "Grumpier Old Men                           0.985352       0.949707   \n",
       "Waiting to Exhale                          1.116211       0.811523   \n",
       "Father of the Bride Part II                1.009766       0.917480   \n",
       "\n",
       "                             El Camino: A Breaking Bad Movie  \\\n",
       "Toy Story                                           0.973145   \n",
       "Jumanji                                             1.085938   \n",
       "Grumpier Old Men                                    0.991699   \n",
       "Waiting to Exhale                                   1.203125   \n",
       "Father of the Bride Part II                         1.095703   \n",
       "\n",
       "                             Dave Chappelle: Sticks & Stones  \\\n",
       "Toy Story                                           0.785156   \n",
       "Jumanji                                             0.987305   \n",
       "Grumpier Old Men                                    1.089844   \n",
       "Waiting to Exhale                                   1.298828   \n",
       "Father of the Bride Part II                         1.105469   \n",
       "\n",
       "                             Between Two Ferns: The Movie  \n",
       "Toy Story                                        0.953613  \n",
       "Jumanji                                          1.029297  \n",
       "Grumpier Old Men                                 0.990723  \n",
       "Waiting to Exhale                                1.134766  \n",
       "Father of the Bride Part II                      1.033203  \n",
       "\n",
       "[5 rows x 13265 columns]"
      ]
     },
     "execution_count": 49,
     "metadata": {},
     "output_type": "execute_result"
    }
   ],
   "source": [
    "t_list = data.title.to_list()\n",
    "\n",
    "cos_df = pd.DataFrame(cos_mat, columns=t_list, index=t_list)\n",
    "cos_df.head()"
   ]
  },
  {
   "cell_type": "code",
   "execution_count": 50,
   "id": "a892a133",
   "metadata": {},
   "outputs": [],
   "source": [
    "pickle.dump(cos_df, open(\"cosdist_mat.pkl\", \"wb\"))"
   ]
  },
  {
   "cell_type": "code",
   "execution_count": null,
   "id": "33bced76",
   "metadata": {},
   "outputs": [],
   "source": []
  }
 ],
 "metadata": {
  "kernelspec": {
   "display_name": "Python 3 (ipykernel)",
   "language": "python",
   "name": "python3"
  },
  "language_info": {
   "codemirror_mode": {
    "name": "ipython",
    "version": 3
   },
   "file_extension": ".py",
   "mimetype": "text/x-python",
   "name": "python",
   "nbconvert_exporter": "python",
   "pygments_lexer": "ipython3",
   "version": "3.9.7"
  }
 },
 "nbformat": 4,
 "nbformat_minor": 5
}
